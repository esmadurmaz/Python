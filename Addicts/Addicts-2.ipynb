{
 "cells": [
  {
   "cell_type": "code",
   "execution_count": null,
   "metadata": {},
   "outputs": [],
   "source": [
    "Collatz dizisi uzunluğunu bulunuz.Collatz dizisinde bir\n",
    "sonraki sayıyı bulma kuralı şöyledir:\n",
    "ni çift sayıysa: n=n/2\n",
    "ni tek sayıysa:  n=3n+1\n",
    "n=1 ise dur.\n",
    "Söz gelişi, 13 ile başlayan bir dizi aşağıdaki gibi olur.\n",
    "13, 40, 20, 10, 5, 16, 8, 4, 2, 1"
   ]
  },
  {
   "cell_type": "code",
   "execution_count": 41,
   "metadata": {},
   "outputs": [],
   "source": [
    "def  sayı(n):\n",
    "    liste=[n]\n",
    " \n",
    "    while i>1:\n",
    "        if n % 2 == 0 :\n",
    "            n=n//2\n",
    "            liste.append(n)  \n",
    "\n",
    "        else:\n",
    "            n=3*n+1\n",
    "            liste.append(n)\n",
    "         \n",
    "          \n",
    "        if n==1:          \n",
    "            break\n",
    "    sayı(13)            "
   ]
  },
  {
   "cell_type": "code",
   "execution_count": 26,
   "metadata": {
    "scrolled": true
   },
   "outputs": [
    {
     "name": "stdout",
     "output_type": "stream",
     "text": [
      "please enter the number6\n",
      "6 3 10 5 16 8 4 2 1\n"
     ]
    }
   ],
   "source": [
    "num = int(input(\"please enter the number\"))\n",
    "collatz_list = [num]\n",
    "while num != 1:\n",
    "    if num % 2:\n",
    "        num = 3*num + 1\n",
    "    else:\n",
    "        num = num // 2\n",
    "    collatz_list.append(num)\n",
    "print(*collatz_list)"
   ]
  },
  {
   "cell_type": "code",
   "execution_count": 28,
   "metadata": {},
   "outputs": [
    {
     "name": "stdout",
     "output_type": "stream",
     "text": [
      "Enter number:\n",
      "6\n",
      "3\n",
      "10\n",
      "5\n",
      "16\n",
      "8\n",
      "4\n",
      "2\n",
      "1\n"
     ]
    }
   ],
   "source": [
    "number=int(input('Enter number:\\n'))\n",
    "\n",
    "def collatz(number):\n",
    "\n",
    "    while number !=1:\n",
    "        if number% 2 == 0:\n",
    "            number= number//2\n",
    "            print(number)\n",
    "\n",
    "        else:\n",
    "           number=  3 * number + 1\n",
    "           print(number)    \n",
    "\n",
    "\n",
    "collatz(number)"
   ]
  },
  {
   "cell_type": "code",
   "execution_count": null,
   "metadata": {},
   "outputs": [],
   "source": [
    "def collatz(num):\n",
    "    liste = [num]\n",
    "    while True:\n",
    "        if num % 2:\n",
    "            num = 3 * num + 1\n",
    "        else:\n",
    "            num = num // 2\n",
    "        liste.append(num)\n",
    "        if num == 1:\n",
    "            break\n",
    "    return liste\n",
    "collatz(13)"
   ]
  },
  {
   "cell_type": "code",
   "execution_count": null,
   "metadata": {},
   "outputs": [],
   "source": [
    "def  sayı(n):\n",
    "    liste=[n]\n",
    "    while True:\n",
    "        if n % 2 :\n",
    "            n= n//2\n",
    "        \n",
    "        else:\n",
    "            n=3*n+1\n",
    "    liste.append(n)\n",
    "    if n==1:\n",
    "        break\n",
    "     \n",
    "    return liste\n",
    "sayı(13)"
   ]
  },
  {
   "cell_type": "code",
   "execution_count": 85,
   "metadata": {},
   "outputs": [
    {
     "name": "stdout",
     "output_type": "stream",
     "text": [
      "Qriif wfcis\n"
     ]
    }
   ],
   "source": [
    "\n",
    "def txt(adbash):\n",
    "    x = 'ABCÇDEFGĞHİIJKLMNOÖPRSŞTUÜVYZabcçdefgğhiıjklmnoöprsştuüvyz'\n",
    "    y = 'ZYXWVUTSRQPONMLKJIHGFEDCBAzyxwvutsrqponmlkjihgfedcba'\n",
    "    s = ''\n",
    "\n",
    "    for i in adbash:\n",
    "        if i in x:\n",
    "            s+= y[x.index(i)]\n",
    "        \n",
    "        else:\n",
    "            s+= i\n",
    "            \n",
    "    return s  \n",
    "\n",
    "print(txt(\"Hello world\"))\n",
    "        \n",
    "\n",
    "\n",
    "\n",
    "\n",
    "\n",
    "\n",
    "\n"
   ]
  },
  {
   "cell_type": "code",
   "execution_count": null,
   "metadata": {},
   "outputs": [],
   "source": []
  }
 ],
 "metadata": {
  "kernelspec": {
   "display_name": "Python 3",
   "language": "python",
   "name": "python3"
  },
  "language_info": {
   "codemirror_mode": {
    "name": "ipython",
    "version": 3
   },
   "file_extension": ".py",
   "mimetype": "text/x-python",
   "name": "python",
   "nbconvert_exporter": "python",
   "pygments_lexer": "ipython3",
   "version": "3.8.5"
  }
 },
 "nbformat": 4,
 "nbformat_minor": 4
}
