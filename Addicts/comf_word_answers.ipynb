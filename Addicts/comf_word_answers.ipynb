{
 "cells": [
  {
   "cell_type": "code",
   "execution_count": 5,
   "source": [
    "Left_hand = [\"q\", \"w\", \"e\", \"r\", \"t\", \"a\", \"s\", \"d\", \"f\", \"g\", \"z\", \"x\", \"c\", \"v\", \"b\"]\r\n",
    "Right_hand = [\"y\", \"u\", \"i\", \"o\", \"p\", \"h\", \"j\", \"k\", \"l\", \"n\", \"m\"]\r\n",
    "set_left = set(Left_hand)\r\n",
    "set_right = set(Right_hand)\r\n",
    "word = input(\"Enter a word= \")\r\n",
    "set_word = set(word)\r\n",
    "son = (set_word.isdisjoint(set_right) == 0) and (set_word.isdisjoint(set_left) == 0)\r\n",
    "print(\"Is word comfortable ? : \" + str(son))\r\n"
   ],
   "outputs": [
    {
     "output_type": "stream",
     "name": "stdout",
     "text": [
      "Is word comfortable ? : True\n"
     ]
    }
   ],
   "metadata": {}
  },
  {
   "cell_type": "code",
   "execution_count": 6,
   "source": [
    "\r\n",
    "left_hand= set(\"qwertasdfgzxcvb\")\r\n",
    "right_hand= set(\"yuıopğühjklşinmöç\")\r\n",
    "word = input(\"Enter a word :\").title().strip()\r\n",
    "if (set(word)-left_hand) == set(word):\r\n",
    "    print(\"False : uses only right-hand fingers.\")\r\n",
    "elif (set(word)-right_hand) == set(word):\r\n",
    "  print(\"False : uses only left-hand fingers.\")\r\n",
    "else:\r\n",
    "  print(\"True : uses both hand fingers.\")\r\n"
   ],
   "outputs": [
    {
     "output_type": "stream",
     "name": "stdout",
     "text": [
      "True : uses both hand fingers.\n"
     ]
    }
   ],
   "metadata": {}
  },
  {
   "cell_type": "code",
   "execution_count": null,
   "source": [
    "left = set(\"qwertasdfgzxcvb\")\r\n",
    "  right = set(\"yuiophjklmn\")\r\n",
    "  a = set(str(input(\"write a world\")))\r\n",
    "  a&left!=set() and a&right!=set()"
   ],
   "outputs": [],
   "metadata": {}
  },
  {
   "cell_type": "code",
   "execution_count": null,
   "source": [
    "left_hand = set(\"qwertyasdfgzxcvb\")\r\n",
    "right_hand = set(\"uıopğühjklşinmöç\")\r\n",
    "a = set(input(\"enter a word : \"))\r\n",
    "if (a & right_hand) and (a & left_hand):\r\n",
    "  print(\"your word is comfotable\")\r\n",
    "else:\r\n",
    "  print(\"you word is not comfotable\")\r\n",
    "\r\n"
   ],
   "outputs": [],
   "metadata": {}
  },
  {
   "cell_type": "code",
   "execution_count": null,
   "source": [
    "\r\n",
    "left_hand = set(\"qwertasdfgzxcvb\")\r\n",
    "right_hand = set(\"yuıopğühjklşinmöç\")\r\n",
    "word = input(\"please one word writing :\")\r\n",
    "word2 = set(word)\r\n",
    "if  word2 in (word2&left_hand, word2&right_hand):\r\n",
    "    print(\"this word noncomfortable\")\r\n",
    "else:\r\n",
    "    print(\"this word comfortable\")\r\n"
   ],
   "outputs": [],
   "metadata": {}
  },
  {
   "cell_type": "code",
   "execution_count": null,
   "source": [
    "\r\n",
    "left_figer = [\"q\", \"w\", \"e\", \"r\", \"t\", \"a\", \"s\", \"d\", \"f\", \"g\", \"z\", \"x\", \"c\", \"v\", \"b\"]\r\n",
    "right_finger = [\"y\", \"u\", \"i\", \"o\", \"p\", \"h\", \"j\", \"k\", \"l\", \"n\", \"m\"]\r\n",
    "word = input(\"Please enter the word you want to know if it is comfortable\")\r\n",
    "for x in left_figer:\r\n",
    "    if x in list(word):\r\n",
    "        for y in right_finger:\r\n",
    "            if y in list(word):\r\n",
    "                print(\"The word you entered is comfortable number.\")\r\n",
    "                break\r\n",
    "            else:\r\n",
    "                print(\"The word you entered is not a comfortable number.\")\r\n",
    "                break\r\n",
    "    else:\r\n",
    "        print(\"The word you entered is not a comfortable number.\")\r\n",
    "        break\r\n",
    "\r\n"
   ],
   "outputs": [],
   "metadata": {}
  },
  {
   "cell_type": "code",
   "execution_count": 7,
   "source": [
    "left_hand = [\"q\",\"a\",\"z\",\"w\",\"s\",\"x\",\"e\",\"d\",\"c\",\"r\",\"f\",\"v\",\"t\",\"g\",\"b\"] \r\n",
    "right_hand = [\"y\",\"h\",\"n\",\"u\",\"j\",\"m\",\"ı\",\"k\",\"o\",\"l\",\"p\",\"ö\",\"ç\",\"ş\",\"i\",\"ü\",\"ğ\"] \r\n",
    "print(\"This program will show you whether the word you enter is comfortable word for ten finger typing\\\r\n",
    "\\n(without any space) enter only one word:\") \r\n",
    "word = input() \r\n",
    "a = False \r\n",
    "b = False \r\n",
    "for i in range(len(list(word))) :\r\n",
    "    a = a or (word[i] in left_hand) \r\n",
    "    b = b or (word[i] in right_hand) \r\n",
    "if (a and b) == True : \r\n",
    "      print(f\"{a and b}\"+\" (uses both hand fingers)\") \r\n",
    "else : \r\n",
    "    if a == True : \r\n",
    "        print(f\"{not a}\"+\" (uses only left-hand fingers)\") \r\n",
    "    elif b == True : \r\n",
    "        print(f\"{not b}\"+\" (uses only right-hand fingers)\") "
   ],
   "outputs": [
    {
     "output_type": "stream",
     "name": "stdout",
     "text": [
      "This program will show you whether the word you enter is comfortable word for ten finger typing\n",
      "(without any space) enter only one word:\n",
      "True (uses both hand fingers)\n"
     ]
    }
   ],
   "metadata": {}
  },
  {
   "cell_type": "code",
   "execution_count": null,
   "source": [
    "left = set(\"qwertasdfgzxcvb \")\r\n",
    "right = set(\"yuıopğhjklşinmöç \")\r\n",
    "word = input(\"Please input a word to check whether it is 'comfortable' or not :\")\r\n",
    "word_set = set(word.lower())\r\n",
    "comfortable = word_set.issubset(right) or word_set.issubset(left)\r\n",
    "print(comfortable)\r\n"
   ],
   "outputs": [],
   "metadata": {}
  },
  {
   "cell_type": "code",
   "execution_count": 2,
   "source": [
    "\r\n",
    "word = bool(set(\"tester\").intersection(left_hand)) and bool(set(\"tester\").intersection(right_hand))\r\n"
   ],
   "outputs": [
    {
     "output_type": "error",
     "ename": "NameError",
     "evalue": "name 'left_hand' is not defined",
     "traceback": [
      "\u001b[1;31m---------------------------------------------------------------------------\u001b[0m",
      "\u001b[1;31mNameError\u001b[0m                                 Traceback (most recent call last)",
      "\u001b[1;32m~\\AppData\\Local\\Temp/ipykernel_9452/3235041638.py\u001b[0m in \u001b[0;36m<module>\u001b[1;34m\u001b[0m\n\u001b[1;32m----> 1\u001b[1;33m \u001b[0mword\u001b[0m \u001b[1;33m=\u001b[0m \u001b[0mbool\u001b[0m\u001b[1;33m(\u001b[0m\u001b[0mset\u001b[0m\u001b[1;33m(\u001b[0m\u001b[1;34m\"tester\"\u001b[0m\u001b[1;33m)\u001b[0m\u001b[1;33m.\u001b[0m\u001b[0mintersection\u001b[0m\u001b[1;33m(\u001b[0m\u001b[0mleft_hand\u001b[0m\u001b[1;33m)\u001b[0m\u001b[1;33m)\u001b[0m \u001b[1;32mand\u001b[0m \u001b[0mbool\u001b[0m\u001b[1;33m(\u001b[0m\u001b[0mset\u001b[0m\u001b[1;33m(\u001b[0m\u001b[1;34m\"tester\"\u001b[0m\u001b[1;33m)\u001b[0m\u001b[1;33m.\u001b[0m\u001b[0mintersection\u001b[0m\u001b[1;33m(\u001b[0m\u001b[0mright_hand\u001b[0m\u001b[1;33m)\u001b[0m\u001b[1;33m)\u001b[0m\u001b[1;33m\u001b[0m\u001b[1;33m\u001b[0m\u001b[0m\n\u001b[0m",
      "\u001b[1;31mNameError\u001b[0m: name 'left_hand' is not defined"
     ]
    }
   ],
   "metadata": {}
  },
  {
   "cell_type": "code",
   "execution_count": null,
   "source": [
    "\r\n",
    "left_hand = set('qwertasdfgzxcvb')\r\n",
    "right_hand = set('yuiophjklnm')\r\n",
    "word = set(input('Enter a word to be checked: '))\r\n",
    "left_check = len(word.difference(left_hand)) \r\n",
    "right_check = len(word.difference(right_hand))\r\n",
    "print((left_check==0 and 'Uses only left-hand fingers!') or \\\r\n",
    "      (right_check==0 and 'Uses only right-hand fingers!') or ('Uses both hand fingers!'))\r\n"
   ],
   "outputs": [],
   "metadata": {}
  },
  {
   "cell_type": "code",
   "execution_count": null,
   "source": [
    "\r\n",
    "left = ['q','w','e','r','t','a','s','d','f','g','z','x','c','v','b']\r\n",
    "right = ['y','u','i','o','p','h','j','k','l','n','m']\r\n",
    "word = input('bir kelime giriniz :  ')\r\n",
    "a = []\r\n",
    "for i in word:\r\n",
    "  a.append(i)\r\n",
    "print(bool((set(left) & set(a)) and (set(right) & set(a)) ))\r\n"
   ],
   "outputs": [],
   "metadata": {}
  },
  {
   "cell_type": "code",
   "execution_count": null,
   "source": [
    "\r\n",
    "left_hand = {‘q’,‘a’,‘z’,‘w’,‘s’,‘x’,‘e’,‘d’,‘c’,‘r’,‘f’,‘v’,‘t’,‘g’,‘b’}\r\n",
    "right_hand = {‘y’,‘h’,‘n’,‘u’,‘j’,‘m’,‘i’,‘k’,‘o’,‘l’,‘p’}\r\n",
    "word = set(input(‘enter word: ’).strip().lower())\r\n",
    "result = not(word.issubset(left_hand) or word.issubset(right_hand))\r\n",
    "print(result)\r\n"
   ],
   "outputs": [],
   "metadata": {}
  },
  {
   "cell_type": "code",
   "execution_count": null,
   "source": [
    "def comfortable_word(x):\r\n",
    "    left = [\"q\", \"w\", \"e\", \"r\", \"t\", \"a\", \"s\", \"d\", \"f\", \"g\", \"z\", \"x\", \"c\", \"v\", \"b\"]\r\n",
    "    y = set(x)\r\n",
    "    le = 0\r\n",
    "    ri = 0\r\n",
    "    for i in y:\r\n",
    "        if i in left:\r\n",
    "            le += 1\r\n",
    "        else:\r\n",
    "            ri += 1\r\n",
    "    if ri != 0 and le != 0:\r\n",
    "        return True\r\n",
    "    else:\r\n",
    "        return False\r\n",
    "print(comfortable_word(\"tester\"))\r\n",
    "print(comfortable_word(\"polly\"))\r\n",
    "print(comfortable_word(\"clarusway\"))\r\n"
   ],
   "outputs": [],
   "metadata": {}
  },
  {
   "cell_type": "code",
   "execution_count": null,
   "source": [
    "text = (input(\"enter a word :\")).lower().strip()\r\n",
    "text1 = set(text)\r\n",
    "left = set('qwertasdfgzxcvb')\r\n",
    "right = set('yuıophjklnm')\r\n",
    "print((text1 - left == set()) or (text1 - right == set()))\r\n"
   ],
   "outputs": [],
   "metadata": {}
  },
  {
   "cell_type": "code",
   "execution_count": null,
   "source": [
    "left_hand = set(\"qwertasdfgzxcvb\")\r\n",
    "right_hand = set(\"yuıopğühjklşinmöç\")\r\n",
    "word = input(\"please one word writing :\")\r\n",
    "word2 = set(word)\r\n",
    "if  word2 in (word2&left_hand, word2&right_hand):\r\n",
    "    print(\"this word noncomfortable\")\r\n",
    "else:\r\n",
    "    print(\"this word comfortable\")\r\n",
    "\r\n"
   ],
   "outputs": [],
   "metadata": {}
  },
  {
   "cell_type": "code",
   "execution_count": null,
   "source": [
    "# Comfortable words\r\n",
    "left_hand = set(\"qwertasdfgzxcvb\")\r\n",
    "right_hand = set(\"yuıopğühjklşinmöç\")\r\n",
    "kelime = set(input(\"Enter a word: \"))\r\n",
    "if ((kelime & right_hand) and (kelime & left_hand)):\r\n",
    "  print(\"True\")\r\n",
    "else:\r\n",
    "  print(\"False\")"
   ],
   "outputs": [],
   "metadata": {}
  },
  {
   "cell_type": "code",
   "execution_count": null,
   "source": [
    "left_letter = [‘a’, ‘b’, ‘c’, ‘d’, ‘e’, ‘f’, ‘g’, ‘q’, ‘r’, ‘s’, ‘t’, ‘v’, ‘w’, ‘x’, ‘z’]\r\n",
    "right_letter = [‘h’, ‘i’, ‘j’, ‘k’, ‘l’, ‘m’, ‘n’, ‘o’, ‘p’, ‘u’, ‘y’]\r\n",
    "your_text = input(‘Please enter a text > ’)\r\n",
    "left_bool = False\r\n",
    "right_bool = False\r\n",
    "for i in your_text:\r\n",
    "    if i in left_letter:\r\n",
    "        left_bool = True\r\n",
    "    if i in right_letter:\r\n",
    "        right_bool = True\r\n",
    "if right_bool == True and left_bool == True:\r\n",
    "    print(‘Your text is a comfortable word.’)\r\n",
    "elif right_bool == True and left_bool == False:\r\n",
    "    print(‘Your text contains only right-hand letters.’)\r\n",
    "elif right_bool == False and left_bool == True:\r\n",
    "    print(‘Your text contains only left-hand letters.’)\r\n",
    "else:\r\n",
    "    print(‘Your text does not contain any letters.’)\r\n"
   ],
   "outputs": [],
   "metadata": {}
  },
  {
   "cell_type": "code",
   "execution_count": null,
   "source": [
    "left = {'q', 'w', 'e', 'r', 't', 'a', 's', 'd', 'f', 'g', 'z', 'x', 'c', 'v', 'b'}\r\n",
    "right = {'y', 'u', 'i', 'o', 'p', 'h', 'j', 'k', 'l', 'n', 'm'}\r\n",
    "word = input('Enter a word:')\r\n",
    "print((set(word) & left) != set() and  (set(word) & right) != set())"
   ],
   "outputs": [],
   "metadata": {}
  },
  {
   "cell_type": "code",
   "execution_count": null,
   "source": [
    "left = ['q','w','e','r','t','a','s','d','f','g','z','x','c','v','b']\r\n",
    "right = ['y','u','i','o','p','h','j','k','l','n','m']\r\n",
    "word = input('bir kelime giriniz :  ')\r\n",
    "a = []\r\n",
    "for i in word:\r\n",
    "  a.append(i)\r\n",
    "print(bool((set(left) & set(a)) and (set(right) & set(a)) ))"
   ],
   "outputs": [],
   "metadata": {}
  },
  {
   "cell_type": "code",
   "execution_count": null,
   "source": [
    "left = set(\"qwertasdfgzxcvb \")\r\n",
    "right = set(\"yuıopğhjklşinmöç \")\r\n",
    "word = input(\"Please input a word to check whether it is 'comfortable' or not :\")\r\n",
    "word_set = set(word.lower())\r\n",
    "comfortable = word_set.issubset(right) or word_set.issubset(left)\r\n",
    "print(comfortable)"
   ],
   "outputs": [],
   "metadata": {}
  },
  {
   "cell_type": "code",
   "execution_count": null,
   "source": [
    "left_letter = [‘a’, ‘b’, ‘c’, ‘d’, ‘e’, ‘f’, ‘g’, ‘q’, ‘r’, ‘s’, ‘t’, ‘v’, ‘w’, ‘x’, ‘z’]\r\n",
    "right_letter = [‘h’, ‘i’, ‘j’, ‘k’, ‘l’, ‘m’, ‘n’, ‘o’, ‘p’, ‘u’, ‘y’]\r\n",
    "your_text = input(‘Please enter a text > ’)\r\n",
    "left_bool = False\r\n",
    "right_bool = False\r\n",
    "for i in your_text:\r\n",
    "    if i in left_letter:\r\n",
    "        left_bool = True\r\n",
    "    if i in right_letter:\r\n",
    "        right_bool = True\r\n",
    "if right_bool == True and left_bool == True:\r\n",
    "    print(‘Your text is a comfortable word.’)\r\n",
    "elif right_bool == True and left_bool == False:\r\n",
    "    print(‘Your text contains only right-hand letters.’)\r\n",
    "elif right_bool == False and left_bool == True:\r\n",
    "    print(‘Your text contains only left-hand letters.’)\r\n",
    "else:\r\n",
    "    print(‘Your text does not contain any letters.’)"
   ],
   "outputs": [],
   "metadata": {}
  },
  {
   "cell_type": "code",
   "execution_count": null,
   "source": [
    "counter1 = 0\r\n",
    "counter2 = 0\r\n",
    "left_hand_letters = [\"q\",\"w\",\"e\",\"r\",\"t\",\"a\",\"s\",\"d\",\"f\",\"g\",\"z\",\"x\",\"c\",\"v\",\"b\"]\r\n",
    "right_hand_letters = [\"y\",\"u\",\"ı\",\"o\",\"p\",\"ğ\",\"ü\",\"h\",\"j\",\"k\",\"l\",\"ş\",\"i\",\"n\",\"m\",\"ö\",\"ç\"]\r\n",
    "comfortable_word = [\"q\",\"w\",\"e\",\"r\",\"t\",\"a\",\"s\",\"d\",\"f\",\"g\",\"z\",\"x\",\"c\",\"v\",\"b\",\"y\",\"u\",\"ı\",\"o\",\"p\",\"ğ\",\"ü\",\"h\",\"j\",\"k\",\"l\",\"ş\",\"i\",\"n\",\"m\",\"ö\",\"ç\"]\r\n",
    "a = list(input(\"Kelimeyi giriniz: \"))\r\n",
    "for i in a:\r\n",
    "   if i in left_hand_letters:\r\n",
    "       counter1 += 1\r\n",
    "   else:\r\n",
    "       counter2 += 1\r\n",
    "if counter1 == 0 or counter2 == 0:\r\n",
    "   print(False)\r\n",
    "else:\r\n",
    "   print(True)"
   ],
   "outputs": [],
   "metadata": {}
  },
  {
   "cell_type": "code",
   "execution_count": null,
   "source": [
    "Left = {'q', 'w', 'e', 'r', 't', 'a', 's', 'd', 'f', 'g', 'z', 'x', 'c', 'v', 'b'}\r\n",
    "Right = {'y', 'u', 'i', 'o','p', 'h', 'j', 'k', 'l', 'n', 'm'}\r\n",
    "word = set(input(\"write a word: \").lower().strip())\r\n",
    "left = bool(word.intersection(Left))* \"False (uses only left-hand fingers)\"\r\n",
    "right = bool(word.intersection(Right))* \"False (uses only right-hand fingers)\"\r\n",
    "both = bool(left and right)* \"True (uses both hand fingers)\"\r\n",
    "both or right or left\r\n"
   ],
   "outputs": [],
   "metadata": {}
  }
 ],
 "metadata": {
  "orig_nbformat": 4,
  "language_info": {
   "name": "python"
  }
 },
 "nbformat": 4,
 "nbformat_minor": 2
}