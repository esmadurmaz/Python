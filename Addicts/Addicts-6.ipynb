{
 "cells": [
  {
   "cell_type": "markdown",
   "metadata": {},
   "source": [
    "Given an N by N matrix, rotate it by 90 degrees clockwise. For example, given the following matrix:\n",
    "[[1, 2, 3],\n",
    "[4, 5, 6],\n",
    "[7, 8, 9]]\n",
    "You should return:\n",
    "[[7, 4, 1],\n",
    "[8, 5, 2],\n",
    "[9, 6, 3]]"
   ]
  },
  {
   "cell_type": "code",
   "execution_count": null,
   "metadata": {},
   "outputs": [],
   "source": [
    "liste = [[1, 2, 3],\n",
    "[4, 5, 6],\n",
    "[7, 8, 9]]\n",
    "dimension = len(liste[0])\n",
    "liste_2 = [[i for i in range(dimension)] for i in range(dimension)]\n",
    "for i in range(dimension):\n",
    "    k = dimension - 1\n",
    "    for j in range(dimension):\n",
    "        liste_2[i][j] = liste[k][i]\n",
    "        k -= 1\n",
    "print(liste_2)"
   ]
  },
  {
   "cell_type": "code",
   "execution_count": null,
   "metadata": {},
   "outputs": [],
   "source": [
    "a=[[1,2,3],[4,5,6],[7,8,9]]\n",
    "for i in range(len(a)):\n",
    "    for j in range(i,len(a)):\n",
    "        a[i][j], a[j][i] = a[j][i], a[i][j]\n",
    "for i in a:\n",
    "    i.reverse()\n",
    "print(a)"
   ]
  },
  {
   "cell_type": "code",
   "execution_count": null,
   "metadata": {},
   "outputs": [],
   "source": [
    "first_list = [[1,2,3],[4,5,6,],[7,8,9]]\n",
    "len_ = len(first_list[0])\n",
    "second_list = [[i for i in range(len_)] for i in range(len_)]\n",
    "i = 0\n",
    "while i < len_:\n",
    "    k = 0\n",
    "    while k < len_:\n",
    "        second_list[i][k] = first_list[(len_ - 1) - k][i]\n",
    "        k += 1\n",
    "    i += 1\n",
    "a = 0\n",
    "while a < len_:\n",
    "    print(second_list[a])\n",
    "    a += 1"
   ]
  },
  {
   "cell_type": "code",
   "execution_count": null,
   "metadata": {},
   "outputs": [],
   "source": [
    "n=[[1, 2, 3],[4, 5, 6],[7, 8, 9]]\n",
    "n=n[::-1]\n",
    "c = [[],[],[]]     \n",
    "for i in range(len(n)):\n",
    " for r in n:\n",
    "    c[i].append(r[i])   \n",
    "print(c)"
   ]
  },
  {
   "cell_type": "code",
   "execution_count": null,
   "metadata": {},
   "outputs": [],
   "source": [
    "def rotate(matrixNN):\n",
    "  lst1 = []\n",
    "  k = 0\n",
    "  while k < len(matrixNN[0]):\n",
    "    lst2 = []\n",
    "    for i in matrixNN[::-1]:\n",
    "      lst2.append(i[k])\n",
    "    lst1.append(lst2)\n",
    "    k += 1\n",
    "  return lst1\n",
    "\n",
    "rotate([[1, 2, 3],[4, 5, 6],[7, 8, 9]])"
   ]
  },
  {
   "cell_type": "code",
   "execution_count": null,
   "metadata": {},
   "outputs": [],
   "source": [
    "matrix1 = [[1, 2, 3], [4, 5, 6], [7, 8, 9]]\n",
    "def rotate_list(matrix):\n",
    "    x, y = 0, 0\n",
    "    list1 = []\n",
    "    for i in range(len(matrix)):\n",
    "        list1.append([])\n",
    "        \n",
    "        # list1 =[[], [], []] \n",
    "    matrix.reverse() \n",
    "         # matrix1 =[[7, 8, 9], [4, 5, 6], [1, 2, 3]]\n",
    "    for i in range(len(matrix)*len(list1)):\n",
    "        list1[y].append(matrix[x][y])\n",
    "        x += 1\n",
    "        if x == len(matrix[0]) :\n",
    "            x = 0\n",
    "            y += 1\n",
    "    return list1\n",
    "rotate_list(matrix1)"
   ]
  },
  {
   "cell_type": "markdown",
   "metadata": {},
   "source": [
    "Pascal üçgeninin ilk n satırını yazdıran bir Python fonksiyonu yazın. \n",
    "Not : Pascal üçgeni, ilk olarak Blaise Pascal tarafından hayal edilen aritmetik ve geometrik bir şekildir.\n",
    "Örnek Pascal üçgeni:\n",
    "Her sayı üstte birbirine eklediği iki sayıdır"
   ]
  },
  {
   "cell_type": "code",
   "execution_count": null,
   "metadata": {},
   "outputs": [],
   "source": [
    "def pascal(n):\n",
    "    for i in range(1, n+1):\n",
    "        ls = [1]\n",
    "        a = 0\n",
    "        if i>2:\n",
    "            while a<i:\n",
    "                ls.append(ls1[a]+ls1[a+1])\n",
    "                if a+1 == len(ls1)-1:\n",
    "                    break\n",
    "                a+=1\n",
    "        if i>1:\n",
    "            ls.append(1)\n",
    "        ls1 = ls\n",
    "        print((n-i)*' ’, ls1)"
   ]
  },
  {
   "cell_type": "code",
   "execution_count": null,
   "metadata": {},
   "outputs": [],
   "source": [
    "kac = int(input('Kac satir? > '))\n",
    "baslangic = [1]\n",
    "result = [[1, 1]]\n",
    "say, n, s, k, b = 0, 0, 0, 1, 1\n",
    "while say <= kac - 3:\n",
    "    n, k = 0, 1\n",
    "    yeni = []\n",
    "    for i in range(b):\n",
    "        asama = result[s][n] + result[s][k]\n",
    "        yeni.append(asama)\n",
    "        n += 1\n",
    "        k += 1\n",
    "    yeni.append(1)\n",
    "    yeni.insert(0, 1)\n",
    "    result.append(yeni)\n",
    "    say += 1\n",
    "    b += 1\n",
    "    s += 1\n",
    "result.insert(0, baslangic)\n",
    "print(result)"
   ]
  },
  {
   "cell_type": "code",
   "execution_count": null,
   "metadata": {},
   "outputs": [],
   "source": [
    "# Input: numLine = 5\n",
    "# Output: [[1],[1,1],[1,2,1],[1,3,3,1],[1,4,6,4,1]]\n",
    "def generate(numLine):\n",
    "    if numLine ==0:\n",
    "        return []\n",
    "    result = [[1]]\n",
    "    for i in range(1,numLine):\n",
    "        result.append([1]* (i+1))   \n",
    "        if i > 1: \n",
    "            for j in range(1,i): \n",
    "                result[i][j] = result[i-1][j-1] +  result[i-1][j]        \n",
    "    return result\n",
    "result = generate(5)\n",
    "result"
   ]
  },
  {
   "cell_type": "code",
   "execution_count": null,
   "metadata": {},
   "outputs": [],
   "source": [
    "number = int(input(\"enter number of lines: \"))\n",
    "liste = []\n",
    "\n",
    "for i in range(number):\n",
    "  if number > 0:\n",
    "    liste.append([])\n",
    "    liste[i].append(1)\n",
    "\n",
    "  if i > 1:\n",
    "    for x in range(1, i):\n",
    "      liste[i].append(liste[i-1][x-1] + liste[i-1][x])\n",
    "\n",
    "  if i > 0:\n",
    "    liste[-1].append(1)\n",
    "\n",
    "print(liste[number-1])\n",
    "print(liste)"
   ]
  },
  {
   "cell_type": "code",
   "execution_count": null,
   "metadata": {},
   "outputs": [],
   "source": [
    "n = int(input(\"Please enter line of pascal pyramid \"))\n",
    "if n <1 :\n",
    "    print(\"Invalid entry\")\n",
    "else:\n",
    "    list_pascal = [[1],[1,1]]\n",
    "    for i in range(2,n):\n",
    "        list1 = [1]\n",
    "        for j in range(1,i):\n",
    "            list1.append((list_pascal[i-1][j-1]+list_pascal[i-1][j]))\n",
    "        list1.append(1)\n",
    "        list_pascal.append(list1)\n",
    "    boy = len(list_pascal)\n",
    "    for k in range(boy):\n",
    "        print((boy-k)*\" \" ,list_pascal[k])"
   ]
  },
  {
   "cell_type": "markdown",
   "metadata": {},
   "source": [
    "1'den 500'e kadar olan sayılardan mükemmel sayı olanları ekrana yazdırın. Bunun için bir sayının mükemmel olup olmadığını dönen bir tane fonksiyon yazın."
   ]
  },
  {
   "cell_type": "code",
   "execution_count": null,
   "metadata": {},
   "outputs": [],
   "source": [
    "def perfect(num):    \n",
    "    new_list = []\n",
    "    for k in range(2, num + 1):\n",
    "        num_list = []\n",
    "        for i in range(1, k):\n",
    "            if k % i == 0:\n",
    "                num_list.append(i)\n",
    "        total = sum(num_list)\n",
    "        if k == total:\n",
    "            new_list.append(k)\n",
    "    return new_list\n",
    "\n",
    "perfect(500)"
   ]
  },
  {
   "cell_type": "code",
   "execution_count": null,
   "metadata": {},
   "outputs": [],
   "source": [
    "liste=[]\n",
    "def sayı(n):\n",
    " for i in range(1,n):\n",
    "  total=0\n",
    "  for j in range(1,i):\n",
    "   if i%j==0:\n",
    "     total=total+j\n",
    "  if total==i:\n",
    "      liste.append(total)\n",
    " return liste\n",
    "sayı(500)"
   ]
  },
  {
   "cell_type": "code",
   "execution_count": null,
   "metadata": {},
   "outputs": [],
   "source": [
    "n = 7\n",
    "list_1 = []\n",
    "perfet_list = []\n",
    "for i in range(1,n-1):\n",
    "    for j in range(2,i):\n",
    "        if i % j == 0:\n",
    "            break\n",
    "    else:\n",
    "        list_1.append(i)\n",
    "print(list_1)\n",
    "for j in list_1:\n",
    "    j = (2 ** (j-1)) * ((2 ** j) -1)\n",
    "    perfet_list.append(j)\n",
    "print(perfet_list)"
   ]
  },
  {
   "cell_type": "code",
   "execution_count": null,
   "metadata": {},
   "outputs": [],
   "source": [
    "def perfect(num):\n",
    "    liste = []\n",
    "    for i in range(1,num):\n",
    "        if num % i == 0:\n",
    "            liste.append(i)\n",
    "    if sum(liste) == num:\n",
    "      \n",
    "        return True\n",
    "    else:\n",
    "        return False\n",
    "for i in range(1,500):\n",
    "    if perfect(i):"
   ]
  }
 ],
 "metadata": {
  "kernelspec": {
   "display_name": "Python 3",
   "language": "python",
   "name": "python3"
  },
  "language_info": {
   "codemirror_mode": {
    "name": "ipython",
    "version": 3
   },
   "file_extension": ".py",
   "mimetype": "text/x-python",
   "name": "python",
   "nbconvert_exporter": "python",
   "pygments_lexer": "ipython3",
   "version": "3.8.5"
  }
 },
 "nbformat": 4,
 "nbformat_minor": 4
}
