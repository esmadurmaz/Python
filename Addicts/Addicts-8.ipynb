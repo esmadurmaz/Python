{
 "cells": [
  {
   "cell_type": "markdown",
   "metadata": {},
   "source": [
    "Take a string with input() and returns the Morse code equivalent.\n",
    "Examples\n",
    "\"EDABBIT CHALLENGE\" ➞ \". -.. .- -... -... .. -   -.-. .... .- .-.. .-.. . -. --. .\"\n",
    "\n",
    "\"HELP ME !\" ➞ \".... . .-.. .--.   -- .   -.-.--\"\n",
    "This dictionary can be used for coding:\n",
    "char_to_dots = {\n",
    "  'A': '.-', 'B': '-...', 'C': '-.-.', 'D': '-..', 'E': '.', 'F': '..-.',\n",
    "  'G': '--.', 'H': '....', 'I': '..', 'J': '.---', 'K': '-.-', 'L': '.-..',\n",
    "  'M': '--', 'N': '-.', 'O': '---', 'P': '.--.', 'Q': '--.-', 'R': '.-.',\n",
    "  'S': '...', 'T': '-', 'U': '..-', 'V': '...-', 'W': '.--', 'X': '-..-',\n",
    "  'Y': '-.--', 'Z': '--..', ' ': ' ', '0': '-----',\n",
    "  '1': '.----', '2': '..---', '3': '...--', '4': '....-', '5': '.....',\n",
    "  '6': '-....', '7': '--...', '8': '---..', '9': '----.',\n",
    "  '&': '.-...', \"'\": '.----.', '@': '.--.-.', ')': '-.--.-', '(': '-.--.',\n",
    "  ':': '---...', ',': '--..--', '=': '-...-', '!': '-.-.--', '.': '.-.-.-',\n",
    "  '-': '-....-', '+': '.-.-.', '\"': '.-..-.', '?': '..--..', '/': '-..-.'\n",
    "}\n",
    "Notes\n",
    "Ouput should be International Morse Code, and use the standard conventions for symbols not defined inside the ITU recommendation (see Resources).\n",
    "Input value can be lower or upper case.\n",
    "Input string can have digits.\n",
    "Input string can have some special characters (e.g. comma, colon, apostrophe, period, question mark, exclamation mark).\n",
    "One space \" \" is expected after each character, except the last one."
   ]
  },
  {
   "cell_type": "code",
   "execution_count": null,
   "metadata": {},
   "outputs": [],
   "source": [
    "char_to_dots = {\n",
    "  'A': '.-', 'B': '-...', 'C': '-.-.', 'D': '-..', 'E': '.', 'F': '..-.',\n",
    "  'G': '--.', 'H': '....', 'I': '..', 'J': '.---', 'K': '-.-', 'L': '.-..',\n",
    "  'M': '--', 'N': '-.', 'O': '---', 'P': '.--.', 'Q': '--.-', 'R': '.-.',\n",
    "  'S': '...', 'T': '-', 'U': '..-', 'V': '...-', 'W': '.--', 'X': '-..-',\n",
    "  'Y': '-.--', 'Z': '--..', ' ': ' ', '0': '-----',\n",
    "  '1': '.----', '2': '..---', '3': '...--', '4': '....-', '5': '.....',\n",
    "  '6': '-....', '7': '--...', '8': '---..', '9': '----.',\n",
    "  '&': '.-...', \"'\": '.----.', '@': '.--.-.', ')': '-.--.-', '(': '-.--.',\n",
    "  ':': '---...', ',': '--..--', '=': '-...-', '!': '-.-.--', '.': '.-.-.-',\n",
    "  '-': '-....-', '+': '.-.-.', '\"': '.-..-.', '?': '..--..', '/': '-..-.'\n",
    "}\n",
    "cikti = []\n",
    "giris = input(\"Birşeyler yazın: \").upper()\n",
    "\n",
    "for i in giris:\n",
    "    cikti.append(char_to_dots[i])\n",
    "\n",
    "print(*cikti)"
   ]
  },
  {
   "cell_type": "code",
   "execution_count": null,
   "metadata": {},
   "outputs": [],
   "source": [
    "def encode_morse(message):\n",
    "    char_to_dots = {\n",
    "  'A': '.-', 'B': '-...', 'C': '-.-.', 'D': '-..', 'E': '.', 'F': '..-.',\n",
    "  'G': '--.', 'H': '....', 'I': '..', 'J': '.---', 'K': '-.-', 'L': '.-..',\n",
    "  'M': '--', 'N': '-.', 'O': '---', 'P': '.--.', 'Q': '--.-', 'R': '.-.',\n",
    "  'S': '...', 'T': '-', 'U': '..-', 'V': '...-', 'W': '.--', 'X': '-..-',\n",
    "  'Y': '-.--', 'Z': '--..', ' ': ' ', '0': '-----',\n",
    "  '1': '.----', '2': '..---', '3': '...--', '4': '....-', '5': '.....',\n",
    "  '6': '-....', '7': '--...', '8': '---..', '9': '----.',\n",
    "  '&': '.-...', \"'\": '.----.', '@': '.--.-.', ')': '-.--.-', '(': '-.--.',\n",
    "  ':': '---...', ',': '--..--', '=': '-...-', '!': '-.-.--', '.': '.-.-.-',\n",
    "  '-': '-....-', '+': '.-.-.', '\"': '.-..-.', '?': '..--..', '/': '-..-.'}\n",
    "    return \" \".join(char_to_dots[i.upper()] for i in message)\n",
    "\n",
    "print(encode_morse(\"EDABBIT CHALLENGE\"))"
   ]
  },
  {
   "cell_type": "code",
   "execution_count": null,
   "metadata": {},
   "outputs": [],
   "source": [
    "char_to_dots = {\n",
    "  'A': '.-', 'B': '-...', 'C': '-.-.', 'D': '-..', 'E': '.', 'F': '..-.',\n",
    "  'G': '--.', 'H': '....', 'I': '..', 'J': '.---', 'K': '-.-', 'L': '.-..',\n",
    "  'M': '--', 'N': '-.', 'O': '---', 'P': '.--.', 'Q': '--.-', 'R': '.-.',\n",
    "  'S': '...', 'T': '-', 'U': '..-', 'V': '...-', 'W': '.--', 'X': '-..-',\n",
    "  'Y': '-.--', 'Z': '--..', ' ': ' ', '0': '-----',\n",
    "  '1': '.----', '2': '..---', '3': '...--', '4': '....-', '5': '.....',\n",
    "  '6': '-....', '7': '--...', '8': '---..', '9': '----.',\n",
    "  '&': '.-...', \"'\": '.----.', '@': '.--.-.', ')': '-.--.-', '(': '-.--.',\n",
    "  ':': '---...', ',': '--..--', '=': '-...-', '!': '-.-.--', '.': '.-.-.-',\n",
    "  '-': '-....-', '+': '.-.-.', '\"': '.-..-.', '?': '..--..', '/': '-..-.'\n",
    "}\n",
    "a = []\n",
    "b = str(input(\"Enter your string:\")).upper()\n",
    "for i in b:\n",
    "    a.append(char_to_dots[i])\n",
    "print(b,\">>>\",a)"
   ]
  },
  {
   "cell_type": "code",
   "execution_count": null,
   "metadata": {},
   "outputs": [],
   "source": [
    "word=input('Enter a word/phrase to be converted to IMC:')\n",
    "word_ims=[]\n",
    "for letter in list(word.upper()):\n",
    "  word_ims.append(char_to_dots[letter])\n",
    "word_ims = ' '.join(word_ims)\n",
    "print(word_ims)"
   ]
  },
  {
   "cell_type": "markdown",
   "metadata": {},
   "source": [
    "Get the total number of seconds from the user.\n",
    "Write a program that returns the total seconds in hours, minutes and seconds.\n",
    "For example: 4565436 seconds is 1268 hours, 10 minutes and 36 seconds."
   ]
  },
  {
   "cell_type": "code",
   "execution_count": null,
   "metadata": {},
   "outputs": [],
   "source": [
    "import math\n",
    "total = int(input('Enter seconds here > '))\n",
    "hours = total / 3600\n",
    "minutes = (hours - math.trunc(hours)) * 60\n",
    "seconds = (minutes - math.trunc(minutes)) * 60\n",
    "print(f'{total} seconds is {math.trunc(hours)} hours, {math.trunc(minutes)} minutes and {math.trunc(seconds)} seconds.')"
   ]
  },
  {
   "cell_type": "code",
   "execution_count": null,
   "metadata": {},
   "outputs": [],
   "source": [
    "total_seconds = int(input(\"How many seconds will you write to convert to hour/minute/seconds? : \"))\n",
    "\n",
    "hour = total_seconds // (60*60)\n",
    "minute = (total_seconds % (60*60)) // 60\n",
    "second = (total_seconds % (60*60)) % 60\n",
    "\n",
    "print(f\"{total_seconds} is equal to {hour} hours {minute} minutes {second} seconds\")"
   ]
  },
  {
   "cell_type": "code",
   "execution_count": null,
   "metadata": {},
   "outputs": [],
   "source": [
    "sec=int(input('Enter the total seconds:  '))\n",
    "minute=sec//60\n",
    "second=sec%60\n",
    "hour=minute//60\n",
    "minute=minute%60\n",
    "print(f'{sec} seconds is {hour} hours, {minute} minutes and {second} seconds.')"
   ]
  },
  {
   "cell_type": "code",
   "execution_count": null,
   "metadata": {},
   "outputs": [],
   "source": [
    "def check_is_digit(input_str):\n",
    "    if input_str.strip().isdigit():\n",
    "        number = int(input_str)\n",
    "        hour = number // 3600\n",
    "        minute_number = (number % 3600) // 60\n",
    "        second = (number % 3600) % 60\n",
    "        print(f\"{number} seconds are equal to {hour} hours {minute_number} minutes and {second} seconds.\")\n",
    "    else:\n",
    "        print(\" It is an invalid entry. Don't use non-numeric, float, or negative values!\")\n",
    "sec = input(\"enter the total number of seconds: \")\n",
    "check_is_digit(sec)\n",
    ":+1:\n",
    "1\n",
    "\n"
   ]
  },
  {
   "cell_type": "markdown",
   "metadata": {},
   "source": [
    "Aynı zamanda hem 2'ye hem 4'e hem de 5'e bölünebilen sayılara xyz sayısı diyelim. Hem 2'ye hem de 5'e bölünebilen sayılar ise abc sayısı olsun. 100 ile 100.000 arasındaki xyz sayılarından kaç tanesi aynı zamanda abc sayısıdır?"
   ]
  },
  {
   "cell_type": "markdown",
   "metadata": {},
   "source": [
    "Write a Python code to sort the list at below without using .sort() method of list. elements of list = [999, 333, 2, 8982, 12, 45, 77, 99, 11] Expected output: [2, 11, 12, 45, 77, 99, 333, 999, 8982]"
   ]
  },
  {
   "cell_type": "code",
   "execution_count": null,
   "metadata": {},
   "outputs": [],
   "source": [
    "list = [999, 333, 2, 8982, 12, 45, 77, 99, 11]\n",
    "new_list = []\n",
    "i = 0\n",
    "len_list = len(list)\n",
    "while i< len_list:\n",
    "  k = min(list)\n",
    "  new_list.append(k)\n",
    "  list.remove(k)\n",
    "  i += 1\n",
    "print(new_list)"
   ]
  },
  {
   "cell_type": "code",
   "execution_count": null,
   "metadata": {},
   "outputs": [],
   "source": [
    "list_ = [999, 333, 2, 8982, 12, 45, 77, 99, 11]\n",
    "new_list = []\n",
    "\n",
    "while list_:\n",
    "    min_element = list_[0]\n",
    "    for i in list_:\n",
    "        if i < min_element:\n",
    "            min_element = i\n",
    "    new_list.append(min_element)\n",
    "    list_.remove(min_element)\n",
    "print(new_list)"
   ]
  },
  {
   "cell_type": "code",
   "execution_count": null,
   "metadata": {},
   "outputs": [],
   "source": [
    "elements = [999, 333, 2, 8982, 12, 45, 77, 99, 11] \n",
    "sorted1 = []\n",
    "for i in range(1,len(elements)+1):\n",
    "    x in elements\n",
    "    x = min(elements)\n",
    "    sorted1.append(x)\n",
    "    elements.remove(x)\n",
    "print(sorted1)"
   ]
  },
  {
   "cell_type": "code",
   "execution_count": null,
   "metadata": {},
   "outputs": [],
   "source": [
    "liste = [999, 333, 2, 8982, 12, 45, 77, 99, 11]\n",
    "liste2 = []\n",
    "for i in range(len(liste)):\n",
    "    minimum = min(liste)\n",
    "    liste2.append(minimum)\n",
    "    liste.remove(minimum)\n",
    "print(liste2)"
   ]
  },
  {
   "cell_type": "code",
   "execution_count": null,
   "metadata": {},
   "outputs": [],
   "source": [
    "my_list = [999, 333, 2, 8982, 12, 45, 77, 99, 11]\n",
    "\n",
    "for i in range(0, len(my_list)):\n",
    "    for x in range(0, len(my_list)-1):\n",
    "        if my_list[x] > my_list[x+1]:\n",
    "            my_list[x], my_list[x+1] = my_list[x+1],  my_list[x]\n",
    "        else:\n",
    "            continue\n",
    "print(my_list)"
   ]
  },
  {
   "cell_type": "code",
   "execution_count": null,
   "metadata": {},
   "outputs": [],
   "source": [
    "my_list = [999, 333, 2, 8982, 12, 45, 77, 99, 11]\n",
    "for i in range(len(my_list)):\n",
    "    for j in range(i+1, len(my_list)):\n",
    "        if my_list[i] > my_list[j]:\n",
    "            my_list[i], my_list[j] = my_list[j],  my_list[i]\n",
    "print(my_list)"
   ]
  },
  {
   "cell_type": "code",
   "execution_count": null,
   "metadata": {},
   "outputs": [],
   "source": [
    "list1 = [999, 333, 2, 8982, 12, 45, 77, 99, 11]\n",
    "list2 = []\n",
    "x = 0\n",
    "for i in list1 :\n",
    "    if i < list1[x] :\n",
    "      list2.append(i)\n",
    "    else:\n",
    "       x += 1\n",
    "list2"
   ]
  },
  {
   "cell_type": "code",
   "execution_count": null,
   "metadata": {},
   "outputs": [],
   "source": [
    "a = [999, 333, 2, 8982, 12, 45, 77, 99, 11]\n",
    "b = []\n",
    "for i in range(len(a)):\n",
    "    maximum = max(a)\n",
    "    b.append(maximum)\n",
    "    a.remove(maximum)\n",
    "    b.reverse()\n",
    "print(b)"
   ]
  },
  {
   "cell_type": "markdown",
   "metadata": {},
   "source": [
    "Kullanıcıdan bir cümle alan ve cümle içerisinde geçen sesli harflerin her birinden kaçar tane olduğunu çıktı veren bir program yazınız.\n",
    "Girilen harflerin küçük/büyük olabileceği ihtimalini göz önünde bulundurunuz.\n",
    "Kolay Gelsin...\n",
    "Beklenen Çıktı:\n",
    "cümle: Sakla samanı gelir zamanı."
   ]
  },
  {
   "cell_type": "code",
   "execution_count": null,
   "metadata": {},
   "outputs": [],
   "source": [
    "kelime=str(input(\"kelime giriniz : \")).lower()\n",
    "kelime=list(kelime)\n",
    "liste1=[]\n",
    "liste2={}\n",
    "liste=(\"a\",\"e\",\"ı\",\"i\",\"o\",\"ö\",\"u\",\"ü\")\n",
    "for i in kelime:\n",
    " if i in liste:\n",
    "   liste1.append(i)\n",
    "for i in liste1:\n",
    "        if i in liste2:\n",
    "            liste2[i] += 1\n",
    "        else:\n",
    "            liste2[i] = 1\n",
    "print(liste2)"
   ]
  },
  {
   "cell_type": "code",
   "execution_count": null,
   "metadata": {},
   "outputs": [],
   "source": [
    "cumle = \"Sakla samani gelir zamani\"\n",
    "vowels = \"aeiouAEIOU\"\n",
    "a={}\n",
    "for i in cumle:\n",
    "    if i in vowels:\n",
    "        if i not in a:\n",
    "            a[i] = 1\n",
    "        else:\n",
    "            a[i] = cumle.count(i)  \n",
    "print(a)"
   ]
  },
  {
   "cell_type": "code",
   "execution_count": null,
   "metadata": {},
   "outputs": [],
   "source": [
    "text = input('Enter your text here > ')\n",
    "vowels = ['a', 'e', 'u', 'i', 'o']  # for only English characters\n",
    "dictt = {}\n",
    "for i in text:\n",
    "    if i in vowels:\n",
    "        if i not in dictt:\n",
    "            dictt[i] = 1\n",
    "        else:\n",
    "            dictt[i] += 1\n",
    "print('\\n'.join(\"{}: {}\".format(k, v) for k, v in dictt.items()))"
   ]
  },
  {
   "cell_type": "code",
   "execution_count": null,
   "metadata": {},
   "outputs": [],
   "source": [
    "\n",
    "C9104-Huseyin  22 days ago\n",
    "sentence = input(\"Bir cümle yazınız: \").lower()\n",
    "vowels = [\"a\", \"e\", \"ı\",\"i\",\"o\", \"ö\", \"u\", \"ü\"]\n",
    "new_list = []\n",
    "result = {}\n",
    "for i in sentence:\n",
    "  if i in vowels:\n",
    "    new_list.append(i)\n",
    "for a in new_list:\n",
    "  result[a] = new_list.count(a)\n",
    "print(result) (edited) "
   ]
  },
  {
   "cell_type": "markdown",
   "metadata": {},
   "source": [
    "Fibonacci dizisini 0 ile 50 arasında almak için bir Python programı yazın .\n",
    "Not: Fibonacci Dizisi,\n",
    "0, 1, 1, 2, 3, 5, 8, 13, 21, sayıları dizisidir .\n",
    "Her sonraki sayı, kendisinden önceki iki sayı toplanarak bulunur.\n",
    "Beklenen Çıktı : 1 1 2 3 5 8 13 21 34"
   ]
  },
  {
   "cell_type": "code",
   "execution_count": null,
   "metadata": {},
   "outputs": [],
   "source": [
    "x,y=0,1\n",
    "fibonacci=[]\n",
    "while x+y<50:\n",
    "    x,y = y,x+y\n",
    "    fibonacci.append(y)\n",
    "print(\"fibonacci sayıları:\", fibonacci)"
   ]
  },
  {
   "cell_type": "code",
   "execution_count": null,
   "metadata": {},
   "outputs": [],
   "source": [
    "liste = [0 ,1]\n",
    "total = 0\n",
    "while True:\n",
    "    total = liste[-2] + total\n",
    "    liste.append(total)\n",
    "    if total + liste[-2] > 50:\n",
    "        break\n",
    "print(' '.join('{}'.format(i) for i in liste))"
   ]
  },
  {
   "cell_type": "code",
   "execution_count": null,
   "metadata": {},
   "outputs": [],
   "source": [
    "liste = [0,1]\n",
    "a,b=0,1\n",
    "while a<48:\n",
    "    toplam=liste[a] + liste[b]\n",
    "    liste.insert(b+1,toplam)\n",
    "    a += 1\n",
    "    b += 1\n",
    "print(liste)\n",
    "print(len(liste))"
   ]
  },
  {
   "cell_type": "code",
   "execution_count": null,
   "metadata": {},
   "outputs": [],
   "source": [
    "x, y, z = 0, 1, 2\n",
    "iboilenaci=[]\n",
    "while z < 50:\n",
    "    z = x + y\n",
    "    x = y\n",
    "    y = z\n",
    "    iboilenaci.append(x)\n",
    "print(\"fibonacci sayıları:\", iboilenaci)"
   ]
  },
  {
   "cell_type": "code",
   "execution_count": null,
   "metadata": {},
   "outputs": [],
   "source": [
    "n = int(input(\"Please enter a number : \"))\n",
    "fib_list = [0, 1]\n",
    "i = 2\n",
    "while len(fib_list)<=n:\n",
    "    fib_list.append(fib_list[i-1]+fib_list[i-2])\n",
    "    i+=1\n",
    "del (fib_list[0],fib_list[-1])\n",
    "print(fib_list)"
   ]
  },
  {
   "cell_type": "code",
   "execution_count": null,
   "metadata": {},
   "outputs": [],
   "source": []
  },
  {
   "cell_type": "code",
   "execution_count": null,
   "metadata": {},
   "outputs": [],
   "source": []
  }
 ],
 "metadata": {
  "kernelspec": {
   "display_name": "Python 3",
   "language": "python",
   "name": "python3"
  },
  "language_info": {
   "codemirror_mode": {
    "name": "ipython",
    "version": 3
   },
   "file_extension": ".py",
   "mimetype": "text/x-python",
   "name": "python",
   "nbconvert_exporter": "python",
   "pygments_lexer": "ipython3",
   "version": "3.8.5"
  }
 },
 "nbformat": 4,
 "nbformat_minor": 4
}
