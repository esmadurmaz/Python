{
 "cells": [
  {
   "cell_type": "markdown",
   "metadata": {},
   "source": [
    "Question : How can I change my email address? ex_mail_address = \"clarusway@gmail.com\", new_email_address = \"clarusway@yahoo.com\"  You can use slicing and string index method."
   ]
  },
  {
   "cell_type": "code",
   "execution_count": 1,
   "metadata": {},
   "outputs": [
    {
     "data": {
      "text/plain": [
       "'clarusway@yahoo.com'"
      ]
     },
     "execution_count": 1,
     "metadata": {},
     "output_type": "execute_result"
    }
   ],
   "source": [
    "ex_mail_address = \"clarusway@gmail.com\"\n",
    "new_email_address = \"clarusway@yahoo.com\"\n",
    "new_email_address = ex_mail_address.replace(\"gmail\",\"yahoo\")\n",
    "new_email_address "
   ]
  },
  {
   "cell_type": "code",
   "execution_count": 2,
   "metadata": {},
   "outputs": [
    {
     "name": "stdout",
     "output_type": "stream",
     "text": [
      "clarusway@yahoo.com\n"
     ]
    }
   ],
   "source": [
    "mail = \"clarusway@gmail.com\"\n",
    "new_domain = \"yahoo.com\"\n",
    "print(mail[:mail.index(\"@\")+1]+new_domain)"
   ]
  },
  {
   "cell_type": "markdown",
   "metadata": {},
   "source": [
    "ilk 10 sayının toplamı için basit bir formül"
   ]
  },
  {
   "cell_type": "code",
   "execution_count": 3,
   "metadata": {},
   "outputs": [
    {
     "name": "stdout",
     "output_type": "stream",
     "text": [
      "Sum of first 10 number is: 55\n"
     ]
    }
   ],
   "source": [
    "num = 10\n",
    "sum = 0\n",
    "i = 1\n",
    "while i <= num:\n",
    "    sum = sum + i\n",
    "    i = i + 1\n",
    "print(\"Sum of first 10 number is:\", sum)"
   ]
  },
  {
   "cell_type": "code",
   "execution_count": 4,
   "metadata": {},
   "outputs": [
    {
     "name": "stdout",
     "output_type": "stream",
     "text": [
      "[2, 4, 6, 8, 10, 12, 14, 16, 18, 20]\n"
     ]
    }
   ],
   "source": [
    "print([ x*2 for x in range(1,11)])"
   ]
  },
  {
   "cell_type": "code",
   "execution_count": 5,
   "metadata": {},
   "outputs": [
    {
     "name": "stdout",
     "output_type": "stream",
     "text": [
      "[4, 8, 12, 16, 20]\n"
     ]
    }
   ],
   "source": [
    "print([ x*2 for x in range(1,11) if x %2 ==0])"
   ]
  },
  {
   "cell_type": "code",
   "execution_count": 6,
   "metadata": {},
   "outputs": [
    {
     "name": "stdout",
     "output_type": "stream",
     "text": [
      "10\n"
     ]
    }
   ],
   "source": [
    "n = \"325\"\n",
    "n = int(n)\n",
    "d1 = n  % 10\n",
    "n = n // 10\n",
    "d2 = n % 10\n",
    "n = n // 10\n",
    "print (n + d1 + d2)"
   ]
  },
  {
   "cell_type": "code",
   "execution_count": 7,
   "metadata": {},
   "outputs": [
    {
     "name": "stdout",
     "output_type": "stream",
     "text": [
      "und\n"
     ]
    }
   ],
   "source": [
    "str = \"Python Software Foundation\"\n",
    "s = str.split()\n",
    "s = sorted(s)\n",
    "s = \" \".join(s)\n",
    "print(s[2:5])"
   ]
  },
  {
   "cell_type": "code",
   "execution_count": 8,
   "metadata": {},
   "outputs": [
    {
     "name": "stdout",
     "output_type": "stream",
     "text": [
      "True\n",
      "[[...]]\n"
     ]
    }
   ],
   "source": [
    "a = []\n",
    "\n",
    "a.append(a)\n",
    "\n",
    "print(a in a)\n",
    "print(a)"
   ]
  },
  {
   "cell_type": "code",
   "execution_count": 9,
   "metadata": {},
   "outputs": [
    {
     "name": "stdout",
     "output_type": "stream",
     "text": [
      "[[...]]\n",
      "[]\n",
      "[[]]\n",
      "1\n",
      "0\n",
      "1\n"
     ]
    }
   ],
   "source": [
    "a, b, c = [], [], [[]]\n",
    "\n",
    "a.append(a)\n",
    "\n",
    "print(a)\n",
    "print(b)\n",
    "print(c)\n",
    "\n",
    "print(len(a))\n",
    "print(len(b))\n",
    "print(len(c))"
   ]
  },
  {
   "cell_type": "markdown",
   "metadata": {},
   "source": [
    "mail = \"from Ahmet, mail to: abcxyz@gmail.com  15:1990:01\"\n",
    "Yukarıdaki mail değişkenine atanan değerden, sadece domain kısmını, \"gmail.com\" bölümünü çıktı verecek kodu yazınız. Birçok yol var arkadaşlar.  Şimdiye kadar öğrendiğimiz bilgiler yeterli olacaktır.  Döngü kullanmanıza gerek yok. String Methods, Indexing ve slicing yeterli."
   ]
  },
  {
   "cell_type": "code",
   "execution_count": 10,
   "metadata": {},
   "outputs": [
    {
     "name": "stdout",
     "output_type": "stream",
     "text": [
      "\n"
     ]
    }
   ],
   "source": [
    "print(mail[28:37])"
   ]
  },
  {
   "cell_type": "code",
   "execution_count": 11,
   "metadata": {},
   "outputs": [
    {
     "name": "stdout",
     "output_type": "stream",
     "text": [
      "gmail.com\n"
     ]
    }
   ],
   "source": [
    "mail = \"from Ahmet, mail to: abcxyz@gmail.com  15:1990:01\"\n",
    "index = mail.find('@')\n",
    "print(mail[index+1:index+10])"
   ]
  },
  {
   "cell_type": "code",
   "execution_count": 12,
   "metadata": {},
   "outputs": [
    {
     "name": "stdout",
     "output_type": "stream",
     "text": [
      "gmail.com\n"
     ]
    }
   ],
   "source": [
    "mail = \"from Ahmet, mail to: abcxyz@gmail.com 15:1990:01\"\n",
    "start = mail.find(\"@\") # Burada @'nin indexini buluyorum.\n",
    "end = mail.find(\"com\") # Burada \"com\" un indexini buluyorum\n",
    "end = end+3 # indexi \"com\"dan itibaren aldığım için c'nin indexini veriyor. Bu yüzden üzerine 3 ekleyip istenilen aralığı alabileceğim indexi belirliyorum.\n",
    "\n",
    "print(mail[start+1:end]) # Result\n"
   ]
  },
  {
   "cell_type": "code",
   "execution_count": 13,
   "metadata": {},
   "outputs": [
    {
     "name": "stdout",
     "output_type": "stream",
     "text": [
      "1 x 1 = 1\n",
      "1 x 2 = 2\n",
      "1 x 3 = 3\n",
      "1 x 4 = 4\n",
      "1 x 5 = 5\n",
      "1 x 6 = 6\n",
      "1 x 7 = 7\n",
      "1 x 8 = 8\n",
      "1 x 9 = 9\n",
      "1 x 10 = 10\n",
      "2 x 1 = 2\n",
      "2 x 2 = 4\n",
      "2 x 3 = 6\n",
      "2 x 4 = 8\n",
      "2 x 5 = 10\n",
      "2 x 6 = 12\n",
      "2 x 7 = 14\n"
     ]
    }
   ],
   "source": [
    "for i in range(1,3):\n",
    "    for j in range(1,11):\n",
    "        print(\"{} x {} =\".format(i,j),i*j)\n",
    "        if i*j>=14:\n",
    "            break"
   ]
  },
  {
   "cell_type": "code",
   "execution_count": 14,
   "metadata": {},
   "outputs": [
    {
     "name": "stdout",
     "output_type": "stream",
     "text": [
      "1x1 =  1\n",
      "1x2 =  2\n",
      "1x3 =  3\n",
      "1x4 =  4\n",
      "1x5 =  5\n",
      "1x6 =  6\n",
      "1x7 =  7\n",
      "1x8 =  8\n",
      "1x9 =  9\n",
      "1x10 =  10\n",
      "2x1 =  2\n",
      "2x2 =  4\n",
      "2x3 =  6\n",
      "2x4 =  8\n",
      "2x5 =  10\n",
      "2x6 =  12\n",
      "2x7 =  14\n",
      "2x8 =  16\n",
      "2x9 =  18\n",
      "2x10 =  20\n",
      "3x1 =  3\n",
      "3x2 =  6\n",
      "3x3 =  9\n",
      "3x4 =  12\n",
      "3x5 =  15\n",
      "3x6 =  18\n",
      "3x7 =  21\n",
      "3x8 =  24\n",
      "3x9 =  27\n",
      "3x10 =  30\n",
      "4x1 =  4\n",
      "4x2 =  8\n",
      "4x3 =  12\n",
      "4x4 =  16\n",
      "4x5 =  20\n",
      "4x6 =  24\n",
      "4x7 =  28\n",
      "4x8 =  32\n",
      "4x9 =  36\n",
      "4x10 =  40\n",
      "5x1 =  5\n",
      "5x2 =  10\n",
      "5x3 =  15\n",
      "5x4 =  20\n",
      "5x5 =  25\n",
      "5x6 =  30\n",
      "5x7 =  35\n",
      "5x8 =  40\n",
      "5x9 =  45\n",
      "5x10 =  50\n",
      "6x1 =  6\n",
      "6x2 =  12\n",
      "6x3 =  18\n",
      "6x4 =  24\n",
      "6x5 =  30\n",
      "6x6 =  36\n",
      "6x7 =  42\n",
      "6x8 =  48\n",
      "6x9 =  54\n",
      "6x10 =  60\n",
      "7x1 =  7\n",
      "7x2 =  14\n",
      "7x3 =  21\n",
      "7x4 =  28\n",
      "7x5 =  35\n",
      "7x6 =  42\n",
      "7x7 =  49\n",
      "7x8 =  56\n",
      "7x9 =  63\n",
      "7x10 =  70\n",
      "8x1 =  8\n",
      "8x2 =  16\n",
      "8x3 =  24\n",
      "8x4 =  32\n",
      "8x5 =  40\n",
      "8x6 =  48\n",
      "8x7 =  56\n",
      "8x8 =  64\n",
      "8x9 =  72\n",
      "8x10 =  80\n",
      "9x1 =  9\n",
      "9x2 =  18\n",
      "9x3 =  27\n",
      "9x4 =  36\n",
      "9x5 =  45\n",
      "9x6 =  54\n",
      "9x7 =  63\n",
      "9x8 =  72\n",
      "9x9 =  81\n",
      "9x10 =  90\n",
      "10x1 =  10\n",
      "10x2 =  20\n",
      "10x3 =  30\n",
      "10x4 =  40\n",
      "10x5 =  50\n",
      "10x6 =  60\n",
      "10x7 =  70\n",
      "10x8 =  80\n",
      "10x9 =  90\n",
      "10x10 =  100\n"
     ]
    }
   ],
   "source": [
    "for ç in range(1,11):\n",
    "  for i in range(1,11):\n",
    "    print('{}x{} = '.format(ç, i), ç*i, )"
   ]
  },
  {
   "cell_type": "markdown",
   "metadata": {},
   "source": [
    "merhaba arkadaslar, 0'dan 11'e kadar sayilarin karelerini while dongusu ve If kullanarak liste halinde cikaralim."
   ]
  },
  {
   "cell_type": "code",
   "execution_count": 22,
   "metadata": {},
   "outputs": [
    {
     "name": "stdout",
     "output_type": "stream",
     "text": [
      "[0, 1, 4, 9, 16, 25, 36, 49, 64, 81, 100]\n"
     ]
    }
   ],
   "source": [
    "x = 0\n",
    "num_square = []\n",
    "while x < 11 :\n",
    "  num = x ** 2\n",
    "  x += 1\n",
    "  num_square.append(num)\n",
    "  if len(num_square) == 11 :\n",
    "      print(num_square)"
   ]
  },
  {
   "cell_type": "code",
   "execution_count": 23,
   "metadata": {},
   "outputs": [
    {
     "name": "stdout",
     "output_type": "stream",
     "text": [
      "[0, 1, 4, 9, 16, 25, 36, 49, 64, 81, 100, 121]\n"
     ]
    }
   ],
   "source": [
    "liste = list()\n",
    "x = 0\n",
    "while x < 12:\n",
    "    liste.append(x*x)\n",
    "    x += 1\n",
    "print(liste)"
   ]
  },
  {
   "cell_type": "code",
   "execution_count": 24,
   "metadata": {},
   "outputs": [
    {
     "name": "stdout",
     "output_type": "stream",
     "text": [
      "[0, 1, 4, 9, 16, 25, 36, 49, 64, 81, 100, 121]\n"
     ]
    }
   ],
   "source": [
    "listw = list(range(12))\n",
    "listw_kare = []\n",
    "sayi=0\n",
    "while sayi<12:\n",
    "     kare=listw[sayi]**2\n",
    "     listw_kare.append(kare)\n",
    "     sayi=sayi+1\n",
    "     if sayi==12:\n",
    "          print(listw_kare)"
   ]
  },
  {
   "cell_type": "code",
   "execution_count": 25,
   "metadata": {},
   "outputs": [
    {
     "name": "stdout",
     "output_type": "stream",
     "text": [
      "1\n",
      "4\n",
      "9\n",
      "16\n",
      "25\n",
      "36\n",
      "49\n",
      "64\n",
      "81\n",
      "100\n",
      "121\n",
      "144\n"
     ]
    }
   ],
   "source": [
    "list = [1, 2, 3, 4, 5, 6, 7, 8, 9, 10, 11, 12]\n",
    "for i in list :\n",
    "    print(i**2)"
   ]
  },
  {
   "cell_type": "code",
   "execution_count": 27,
   "metadata": {},
   "outputs": [
    {
     "name": "stdout",
     "output_type": "stream",
     "text": [
      "[0, 1, 4, 9, 16, 25, 36, 49, 64, 81, 100]\n"
     ]
    }
   ],
   "source": [
    "print([i**2 for i in range(11)]) #bu da for lu list comprenhension"
   ]
  },
  {
   "cell_type": "code",
   "execution_count": 28,
   "metadata": {},
   "outputs": [
    {
     "name": "stdout",
     "output_type": "stream",
     "text": [
      "[1, 4, 9, 16, 25, 36, 49, 64, 81, 100, 121, 144]\n"
     ]
    }
   ],
   "source": [
    "x=0\n",
    "square=[]\n",
    "while x<12:\n",
    "    x+=1\n",
    "    num=x**2\n",
    "    square.append(num)\n",
    "    if len(square)==12:\n",
    "        print(square)\n",
    "        "
   ]
  },
  {
   "cell_type": "markdown",
   "metadata": {},
   "source": [
    "Given a list of strings, group anagrams together.\n",
    "Example:\n",
    "Input:\n",
    "[\"eat\", \"tea\", \"tan\", \"ate\", \"nat\", \"bat\"]\n",
    "Output:\n",
    "[\n",
    "  [\"ate\",\"eat\",\"tea\"],\n",
    "  [\"nat\",\"tan\"],\n",
    "  [\"bat\"]\n",
    "]"
   ]
  },
  {
   "cell_type": "code",
   "execution_count": null,
   "metadata": {},
   "outputs": [],
   "source": [
    "\n",
    "words = [\"eat\", \"tea\", \"tan\", \"ate\", \"nat\", \"bat\"]\n",
    "\n",
    "new = []\n",
    "for item in words:\n",
    "    a = list(item)\n",
    "    a.sort()\n",
    "    new.append(\"\".join(a))\n",
    "\n",
    "uniq_list = list(set(new))\n",
    "output = []\n",
    "for item in uniq_list:\n",
    "    anagram = []\n",
    "    for word,ind in zip(new,range(len(new))):\n",
    "        if item == word:\n",
    "            anagram.append(words[ind])\n",
    "    output.append(anagram)\n",
    "\n",
    "print(output)"
   ]
  },
  {
   "cell_type": "code",
   "execution_count": null,
   "metadata": {},
   "outputs": [],
   "source": []
  }
 ],
 "metadata": {
  "kernelspec": {
   "display_name": "Python 3",
   "language": "python",
   "name": "python3"
  },
  "language_info": {
   "codemirror_mode": {
    "name": "ipython",
    "version": 3
   },
   "file_extension": ".py",
   "mimetype": "text/x-python",
   "name": "python",
   "nbconvert_exporter": "python",
   "pygments_lexer": "ipython3",
   "version": "3.8.5"
  }
 },
 "nbformat": 4,
 "nbformat_minor": 4
}
