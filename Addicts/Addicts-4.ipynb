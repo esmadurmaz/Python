{
 "cells": [
  {
   "cell_type": "code",
   "execution_count": null,
   "metadata": {},
   "outputs": [],
   "source": [
    "Write a Python program to check a triangle is equilateral, isosceles or scalene.\n",
    "Note :\n",
    "An equilateral triangle is a triangle in which all three sides are equal.\n",
    "A scalene triangle is a triangle that has three unequal sides.\n",
    "An isosceles triangle is a triangle with (at least) two equal sides."
   ]
  },
  {
   "cell_type": "code",
   "execution_count": null,
   "metadata": {},
   "outputs": [],
   "source": [
    "x = int(input(\"ilk kenarı giriniz: \"))\n",
    "y = int(input(\"ikinci kenarı giriniz: \"))\n",
    "z = int(input(\"üçüncü kenarı giriniz: \"))\n",
    "if x == y == z:\n",
    "    print(\"eşkenar\")\n",
    "elif x == y or y == z or x == z:\n",
    "    print(\"ikizkenar\")\n",
    "else:\n",
    "    print(\"scalena\")"
   ]
  },
  {
   "cell_type": "code",
   "execution_count": null,
   "metadata": {},
   "outputs": [],
   "source": [
    "Python Functions ufak bi giriş yapalım\n",
    "Note: Built-in Functions kullanmayalım\n",
    "Write a Python function to find the Max of three numbers.\n",
    "Sample Output"
   ]
  },
  {
   "cell_type": "code",
   "execution_count": null,
   "metadata": {},
   "outputs": [],
   "source": [
    "liste = []\n",
    "while True:\n",
    "    num = input(\"Enter a number or press 'q' to exit > \")\n",
    "    if num.lower() == 'q':\n",
    "        break\n",
    "    else:\n",
    "        liste.append(int(num))\n",
    "    \n",
    "def maximum():    \n",
    "    biggest = liste[0]        \n",
    "    for i in liste:\n",
    "        if i > biggest:\n",
    "            biggest = i\n",
    "    return biggest\n",
    "     \n",
    "maximum()"
   ]
  },
  {
   "cell_type": "code",
   "execution_count": null,
   "metadata": {},
   "outputs": [],
   "source": [
    "def max_of_three( x, y,z ):\n",
    "     if x > y and x > z:\n",
    "           return x\n",
    "     elif y>x and y> z:\n",
    "            return y\n",
    "     return z\n",
    "print(max_of_three(3,7,9)"
   ]
  },
  {
   "cell_type": "code",
   "execution_count": null,
   "metadata": {},
   "outputs": [],
   "source": [
    "liste=[5,-6,10]\n",
    "max1=0\n",
    "n = len(liste)\n",
    "x = 0\n",
    "y = n-1\n",
    "while(x<=y):\n",
    "   if (liste[x] < liste[y]):\n",
    "            if (liste[x] > max1):\n",
    "                max1 = liste[x]\n",
    "            x+=1\n",
    "   else:\n",
    "            if(liste[y] > max1):\n",
    "                max1 = liste[y]\n",
    "                y-=1\n",
    "print(max1)"
   ]
  },
  {
   "cell_type": "code",
   "execution_count": null,
   "metadata": {},
   "outputs": [],
   "source": [
    "num_list = [2, 25, -96]\n",
    "\n",
    "max_num = num_list[0]\n",
    "for i in num_list:\n",
    "    if i > max_num:\n",
    "        max_num = i\n",
    "print(max_num)"
   ]
  }
 ],
 "metadata": {
  "kernelspec": {
   "display_name": "Python 3",
   "language": "python",
   "name": "python3"
  },
  "language_info": {
   "codemirror_mode": {
    "name": "ipython",
    "version": 3
   },
   "file_extension": ".py",
   "mimetype": "text/x-python",
   "name": "python",
   "nbconvert_exporter": "python",
   "pygments_lexer": "ipython3",
   "version": "3.8.5"
  }
 },
 "nbformat": 4,
 "nbformat_minor": 4
}
