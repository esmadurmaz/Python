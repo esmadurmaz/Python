{
 "cells": [
  {
   "cell_type": "code",
   "execution_count": null,
   "metadata": {},
   "outputs": [],
   "source": [
    "Given a signed 32-bit integer x, return x with its digits reversed. If reversing x causes the value to go outside the signed 32-bit integer range [-2^31, 2^31 - 1], then return 0."
   ]
  },
  {
   "cell_type": "code",
   "execution_count": null,
   "metadata": {},
   "outputs": [],
   "source": [
    "def reversed(x):\n",
    "  if -2**31 <= x <= 2**31 - 1:\n",
    "    if x==0:\n",
    "      return 0\n",
    "    elif x<0:\n",
    "      return int(str(x).strip(\"-\")[::-1])*-1\n",
    "    else :\n",
    "      return int(str(x)[::-1])\n",
    "  else:\n",
    "    return 0"
   ]
  },
  {
   "cell_type": "code",
   "execution_count": null,
   "metadata": {},
   "outputs": [],
   "source": [
    "x = int(input('Enter a number :'))\n",
    "list_x = list(str(x))\n",
    "if x in range(-2**31, 2**31-1):\n",
    "    y, z = 0, 1\n",
    "    for i in list_x:\n",
    "        if list_x[len(list_x)-z] == '0':\n",
    "            list_x.remove('0')\n",
    "        if x < 0 :\n",
    "            print(list_x[y], end=\"\")\n",
    "            y = len(list_x)-z\n",
    "            z += 1\n",
    "        elif x > 0:\n",
    "            y= len(list_x)-z            \n",
    "            print(list_x[y], end=\"\")\n",
    "            z += 1\n",
    "        else :\n",
    "            print(x)\n",
    "else :\n",
    "    print(0)"
   ]
  }
 ],
 "metadata": {
  "kernelspec": {
   "display_name": "Python 3",
   "language": "python",
   "name": "python3"
  },
  "language_info": {
   "codemirror_mode": {
    "name": "ipython",
    "version": 3
   },
   "file_extension": ".py",
   "mimetype": "text/x-python",
   "name": "python",
   "nbconvert_exporter": "python",
   "pygments_lexer": "ipython3",
   "version": "3.8.5"
  }
 },
 "nbformat": 4,
 "nbformat_minor": 4
}
