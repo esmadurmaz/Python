{
 "cells": [
  {
   "cell_type": "markdown",
   "metadata": {},
   "source": [
    "Imagine you took all the numbers between 0 and n and concatenated them together into a long string. How many digits are there between 0 and n? Write a function that can calculate this.\n",
    "There are 0 digits between 0 and 1, there are 9 digits between 0 and 10 and there are 189 digits between 0 and 100.\n",
    "Examples digits(1) ➞ 0\n",
    "digits(10) ➞ 9\n",
    "digits(100) ➞ 189\n",
    "digits(2020) ➞ 6969\n",
    "Notes The numbers are going to be rather big so creating that string won't be practical."
   ]
  },
  {
   "cell_type": "code",
   "execution_count": null,
   "metadata": {},
   "outputs": [],
   "source": [
    "def number(n):\n",
    "  total_digits = 0\n",
    "  for i in range(1, n):\n",
    "    total_digits += len(str(i))\n",
    "  return total_digits\n",
    "number(2020)"
   ]
  },
  {
   "cell_type": "code",
   "execution_count": null,
   "metadata": {},
   "outputs": [],
   "source": [
    "number = int(input(\"Please enter number\"))\n",
    "list1 = []\n",
    "sum = 0\n",
    "for i in range(1,number):\n",
    "    list1.append(i)\n",
    "for x in list1:\n",
    "    sum = sum + len(str(x))\n",
    "print(f\"0-{number} have {sum} digits\")"
   ]
  },
  {
   "cell_type": "markdown",
   "metadata": {},
   "source": [
    "Given a string containing just the characters '(', ')', '{', '}', '[' and ']',\n",
    "determine if the input string is valid.\n",
    "An input string is valid if:\n",
    "Open brackets must be closed by the same type of brackets.\n",
    "Open brackets must be closed in the correct order.\n",
    "Note that an empty string is also considered valid.\n",
    "Example 1:\n",
    "Input: \"()\"\n",
    "Output: True\n",
    "Example 2:\n",
    "Input: \"()[]{}\"\n",
    "Output: True\n",
    "Example 3:\n",
    "Input: \"(]\"\n",
    "Output: False\n",
    "Example 4:\n",
    "Input: \"([)]\"\n",
    "Output: False\n",
    "Example 5:\n",
    "Input: \"{[]}\"\n",
    "Output: True (edited) "
   ]
  },
  {
   "cell_type": "code",
   "execution_count": null,
   "metadata": {},
   "outputs": [],
   "source": [
    "def text(text):\n",
    "    bracket=True\n",
    "    for i in range(len(text)):\n",
    "        if \"()\" in text:\n",
    "             bracket= True\n",
    "        else:\n",
    "                bracket= False\n",
    "        if \"{}\" in text:\n",
    "                 bracket= True\n",
    "        else:\n",
    "                bracket= False\n",
    "        if \"[]\" in text:\n",
    "                bracket= True\n",
    "        else:\n",
    "                bracket= False\n",
    "    return bracket\n",
    "print(text(\"()\"))"
   ]
  },
  {
   "cell_type": "code",
   "execution_count": null,
   "metadata": {},
   "outputs": [],
   "source": [
    "def char(text):\n",
    "    if text[0] == \"(\":\n",
    "        result = True if text[1] == \")\" or text[-1] == \")\" else False\n",
    "    elif text[0] == \"{\":\n",
    "        result = True if text[1] == \"}\" or text[-1] == \"}\" else False\n",
    "    elif text[0] == \"[\":\n",
    "        result = True if text[1] == \"]\" or text[-1] == \"]\" else False\n",
    "    else:\n",
    "        result = \"Invalid Entry\"\n",
    "        \n",
    "    print(result)\n",
    "        \n",
    "text = str(input(\"Please Entry: \"))\n",
    "\n",
    "char(text)"
   ]
  },
  {
   "cell_type": "code",
   "execution_count": null,
   "metadata": {},
   "outputs": [],
   "source": [
    "input1 = \"{[]}\"\n",
    "for i in input1:\n",
    "    if i == \"{\" and input1[input1.index(i) + 1] == '}' :\n",
    "        result = True\n",
    "     \n",
    "    elif i == '(' and input1[input1.index(i) + 1] == ')' :\n",
    "        result = True\n",
    "        \n",
    "    elif i == \"[\" and input1[input1.index(i) + 1] == ']' :\n",
    "        result = True\n",
    "    else :\n",
    "        result = False   \n",
    "    if result == True:\n",
    "        print(True)\n",
    "            \n",
    "        if result == False:\n",
    "            print(False)"
   ]
  },
  {
   "cell_type": "code",
   "execution_count": null,
   "metadata": {},
   "outputs": [],
   "source": [
    "a, opn, cls, que = input(), [\"(\", \"[\", \"{\"], [\")\", \"]\", \"}\"], []\n",
    "for i in a:\n",
    "    [que.insert(0, cls[ii]) for ii in range(3) if i == opn[ii]]\n",
    "    que.append(0) if i in cls and not len(que) else None\n",
    "    que.remove(que[0]) if i == que[0] else None\n",
    "print(\"invalid\") if len(que) else print(\"valid\")"
   ]
  }
 ],
 "metadata": {
  "kernelspec": {
   "display_name": "Python 3",
   "language": "python",
   "name": "python3"
  },
  "language_info": {
   "codemirror_mode": {
    "name": "ipython",
    "version": 3
   },
   "file_extension": ".py",
   "mimetype": "text/x-python",
   "name": "python",
   "nbconvert_exporter": "python",
   "pygments_lexer": "ipython3",
   "version": "3.8.5"
  }
 },
 "nbformat": 4,
 "nbformat_minor": 4
}
